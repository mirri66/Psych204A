{
 "metadata": {
  "name": ""
 },
 "nbformat": 3,
 "nbformat_minor": 0,
 "worksheets": [
  {
   "cells": [
    {
     "cell_type": "heading",
     "level": 1,
     "metadata": {},
     "source": [
      "Visualization"
     ]
    },
    {
     "cell_type": "markdown",
     "metadata": {},
     "source": [
      "**Class:**     Psych 204a\n",
      "\n",
      "**Tutorial:**  Visualization\n",
      "\n",
      "**Author:**    Dougherty, Bowen, Wandell\n",
      "\n",
      "**Date:**      2010.10.21\n",
      "\n",
      "**Duration:**  45 minutes\n",
      "\n",
      "**Copyright:** Stanford University, Robert F. Dougherty, R Bowen & BA Wandell\n",
      "\n",
      "Translated to Python by Grace Tang, 09/2013\n",
      "\n",
      "Purpose: \n",
      "\n",
      "The purpose of this tutorial is to illustrate the underlying visualization \n",
      "methods used in the analysis of MR data. The tutorial includes examples of \n",
      "tissue segmentation into gray matter and white matter, the definition of the \n",
      "surface boundary of the brain as a mesh, and related anatomical measurements, \n",
      "such as volume and surface area."
     ]
    },
    {
     "cell_type": "code",
     "collapsed": false,
     "input": [
      "# set up plotting, numpy/matplotlib, etc.\n",
      "%pylab inline\n",
      "import matplotlib as mpl\n",
      "mpl.rcParams[\"figure.figsize\"] = (8, 6)\n",
      "mpl.rcParams[\"axes.grid\"] = True\n",
      "from mpl_toolkits.axes_grid1 import make_axes_locatable\n",
      "from IPython.display import display\n",
      "\n",
      "\n",
      "import vtk"
     ],
     "language": "python",
     "metadata": {},
     "outputs": []
    },
    {
     "cell_type": "markdown",
     "metadata": {},
     "source": [
      "##Load a high-resolution T1-weighted MRI dataset of someone's head:"
     ]
    },
    {
     "cell_type": "code",
     "collapsed": false,
     "input": [
      "import scipy.io\n",
      "import nibabel as nib\n",
      "\n",
      "# load nifti files\n",
      "anat_file = nib.load('t1.nii.gz')\n",
      "brainMask_file = nib.load('t1_brain_mask.nii.gz')"
     ],
     "language": "python",
     "metadata": {},
     "outputs": []
    },
    {
     "cell_type": "markdown",
     "metadata": {},
     "source": [
      "Let's see what got loaded:"
     ]
    },
    {
     "cell_type": "code",
     "collapsed": false,
     "input": [
      "anat = anat_file.get_data()\n",
      "brainMask = brainMask_file.get_data()\n",
      "print anat.shape\n",
      "print brainMask.shape"
     ],
     "language": "python",
     "metadata": {},
     "outputs": []
    },
    {
     "cell_type": "markdown",
     "metadata": {},
     "source": [
      "The keys function displays the keys of the newly loaded python doctionary. \n",
      "anat contains the image data. We'll examine the brain mask later. \n",
      "\n",
      "We can also find out the size of physical space (in millimeters) that\n",
      "each image voxel represents. "
     ]
    },
    {
     "cell_type": "code",
     "collapsed": false,
     "input": [
      "anat_file.get_header().get_zooms()"
     ],
     "language": "python",
     "metadata": {},
     "outputs": []
    },
    {
     "cell_type": "markdown",
     "metadata": {},
     "source": [
      "In this case, the sides of the voxel measure about 0.8mm."
     ]
    },
    {
     "cell_type": "markdown",
     "metadata": {},
     "source": [
      "### Question 1\n",
      "\n",
      "a. What is the field of view of this image?\n",
      "\n",
      "b. What is the volume of one voxel?"
     ]
    },
    {
     "cell_type": "markdown",
     "metadata": {},
     "source": [
      "##Examine a slice from this dataset\n",
      "\n",
      "The T1-weighted MR data are stored in a 3d array called 'anat'. Here's\n",
      "one slice from the middle of this array:\n"
     ]
    },
    {
     "cell_type": "code",
     "collapsed": false,
     "input": [
      "z=90 # slice number\n",
      "\n",
      "fig, ax = plt.subplots(1)\n",
      "ax.matshow(anat[:,:,z])"
     ],
     "language": "python",
     "metadata": {},
     "outputs": []
    },
    {
     "cell_type": "markdown",
     "metadata": {},
     "source": [
      "We'll format the image to make it look nicer:"
     ]
    },
    {
     "cell_type": "code",
     "collapsed": false,
     "input": [
      "fig, ax = plt.subplots(1)\n",
      "images=[]\n",
      "images.append(ax.matshow(anat[:,:,z], cmap=matplotlib.cm.bone))\n",
      "ax.set_axis_off()\n",
      "ax.set_axes('tight')\n",
      "\n",
      "# add a colorbar\n",
      "ax = plt.gca()\n",
      "divider = make_axes_locatable(ax)\n",
      "cax = divider.append_axes(\"right\", size=\"5%\", pad=0.05)\n",
      "fig.colorbar(images[0], cax=cax)"
     ],
     "language": "python",
     "metadata": {},
     "outputs": []
    },
    {
     "cell_type": "markdown",
     "metadata": {},
     "source": [
      "In this T1-weighted image, tissues with long T1 values show up as dark\n",
      "(cerebro-spinal fluid, CSF), medium T1 values are gray (gray matter, GM,\n",
      "and muscle), and shorter T1 values are white (white matter, WM,\n",
      "subcutaneous fat in the scalp). In addition to T1-weighting, this image\n",
      "includes some proton density weighting. That's why bone and air, which\n",
      "have relatively little free water, also show up as dark. Because this\n",
      "image is not based on a quantitative MR method, the image intensity\n",
      "values are in arbitrary units, so only the realtive intensities (image\n",
      "contrast) are important."
     ]
    },
    {
     "cell_type": "markdown",
     "metadata": {},
     "source": [
      "### Question 2\n",
      "\n",
      "Try to identify the different tissue types in the image.\n",
      "\n",
      "a. cerebro-spinal fluid (CSF)\n",
      "\n",
      "b. White matter (WM)\n",
      "\n",
      "c. Gray matter (GM)\n",
      "\n",
      "d. bone\n",
      "\n",
      "e. muscle\n",
      "\n",
      "f. scalp\n",
      "\n",
      "g. air"
     ]
    },
    {
     "cell_type": "markdown",
     "metadata": {},
     "source": [
      "Now let's add some labels so that you can see how well you did:\n"
     ]
    },
    {
     "cell_type": "code",
     "collapsed": false,
     "input": [
      "fig, ax = plt.subplots(1)\n",
      "images=[]\n",
      "images.append(ax.matshow(anat[:,:,z], cmap=matplotlib.cm.bone))\n",
      "ax.set_axis_off()\n",
      "ax.set_axes('tight')\n",
      "\n",
      "# add a colorbar\n",
      "ax = plt.gca()\n",
      "divider = make_axes_locatable(ax)\n",
      "cax = divider.append_axes(\"right\", size=\"5%\", pad=0.05)\n",
      "fig.colorbar(images[0], cax=cax)\n",
      "\n",
      "# add text\n",
      "ax.text(86,124,'CSF', fontsize=12, backgroundcolor='red', color='white')\n",
      "ax.text(158,134,'WM', fontsize=12, backgroundcolor='red', color='white')\n",
      "ax.text(120,60,'GM', fontsize=12, backgroundcolor='red', color='white')\n",
      "ax.text(117,173,'bone', fontsize=12, backgroundcolor='red', color='white')\n",
      "ax.text(140,24,'muscle', fontsize=12, backgroundcolor='red', color='white')\n",
      "ax.text(87,181,'scalp', fontsize=12, backgroundcolor='red', color='white')\n",
      "ax.text(15,20,'air', fontsize=12, backgroundcolor='red', color='white')"
     ],
     "language": "python",
     "metadata": {},
     "outputs": []
    },
    {
     "cell_type": "markdown",
     "metadata": {},
     "source": [
      "##Working in three dimensions\n",
      "\n",
      "Remember that this is a 3d dataset. Let's look at all the slices as a\n",
      "simple movie.\n"
     ]
    },
    {
     "cell_type": "code",
     "collapsed": false,
     "input": [
      "import time, sys\n",
      "from IPython.core.display import clear_output\n",
      "\n",
      "fig, ax = plt.subplots(1)\n",
      "for slice in range(anat.shape[2]):\n",
      "    ax.matshow(anat[:,:,slice], cmap=matplotlib.cm.bone)\n",
      "    time.sleep(0.1)\n",
      "    clear_output()\n",
      "    display(fig,ax)\n",
      "    ax.cla()\n",
      "plt.close()"
     ],
     "language": "python",
     "metadata": {},
     "outputs": []
    },
    {
     "cell_type": "markdown",
     "metadata": {},
     "source": [
      "We can also show the middle slice of each axis"
     ]
    },
    {
     "cell_type": "code",
     "collapsed": false,
     "input": [
      "fig = plt.figure()\n",
      "ax1 = fig.add_subplot(1,3,3)\n",
      "ax2 = fig.add_subplot(1,3,2)\n",
      "ax3 = fig.add_subplot(1,3,1)\n",
      "ax1.matshow(anat[anat.shape[0]/2,:,:], cmap=matplotlib.cm.bone)\n",
      "ax2.matshow(anat[:,anat.shape[1]/2,:], cmap=matplotlib.cm.bone)\n",
      "ax3.matshow(anat[:,:,anat.shape[2]/2], cmap=matplotlib.cm.bone)\n",
      "    "
     ],
     "language": "python",
     "metadata": {},
     "outputs": []
    },
    {
     "cell_type": "markdown",
     "metadata": {},
     "source": [
      "##Segment the brain tissue\n",
      "\n",
      "The first step to segmenting the interesting brain tissues is to remove\n",
      "the annoying scalp and skull. This is often called \"brain extraction.\" It\n",
      "can be done manually, by carefully labeling each voxel. There are also\n",
      "some very good algorithms that can do this task automatically. We've\n",
      "applied one of these tools (FSL BET: http://www.fmrib.ox.ac.uk/fsl/bet2/)\n",
      "and saved the resulting brain mask. \n",
      "\n",
      "Here is the brain mask for the same middle slice that we saw above. This\n",
      "'mask' is a simple image with 1's indicating brain tissue and 0's\n",
      "indicating non-brain tissue.\n"
     ]
    },
    {
     "cell_type": "code",
     "collapsed": false,
     "input": [
      "fig, ax = subplots(1)\n",
      "images=[]\n",
      "images.append(ax.matshow(brainMask[:,:,90], cmap=matplotlib.cm.bone))\n",
      "ax.set_axis_off()\n",
      "ax.set_axes('tight')\n",
      "\n",
      "# add a colorbar\n",
      "ax = plt.gca()\n",
      "divider = make_axes_locatable(ax)\n",
      "cax = divider.append_axes(\"right\", size=\"5%\", pad=0.05)\n",
      "fig.colorbar(images[0], cax=cax)"
     ],
     "language": "python",
     "metadata": {},
     "outputs": []
    },
    {
     "cell_type": "markdown",
     "metadata": {},
     "source": [
      "### Question 3\n",
      "\n",
      "What is the volume of the brain in cubic centimeters?\n",
      "Hint: the volume of one voxel in cubic mm is prod(voxDim).\n"
     ]
    },
    {
     "cell_type": "markdown",
     "metadata": {},
     "source": [
      "Now apply the brain mask by setting all non-brain voxels to 0 (multiply all non-brain voxels by 0):\n"
     ]
    },
    {
     "cell_type": "code",
     "collapsed": false,
     "input": [
      "brain = anat*brainMask\n",
      "\n",
      "# plot\n",
      "fig, ax = subplots(1)\n",
      "images=[]\n",
      "images.append(ax.matshow(brain[:,:,90], cmap=matplotlib.cm.bone))\n",
      "ax.set_axis_off()\n",
      "ax.set_axes('tight')\n",
      "\n",
      "# add a colorbar\n",
      "ax = plt.gca()\n",
      "divider = make_axes_locatable(ax)\n",
      "cax = divider.append_axes(\"right\", size=\"5%\", pad=0.05)\n",
      "fig.colorbar(images[0], cax=cax)\n"
     ],
     "language": "python",
     "metadata": {},
     "outputs": []
    },
    {
     "cell_type": "markdown",
     "metadata": {},
     "source": [
      "Let's look at a histogram of the image intensities in the brain.\n"
     ]
    },
    {
     "cell_type": "code",
     "collapsed": false,
     "input": [
      "fig, ax = subplots(1)\n",
      "hist(brain.ravel(), 100)\n",
      "xlabel('Raw intensity'); ylabel('Pixel count');\n"
     ],
     "language": "python",
     "metadata": {},
     "outputs": []
    },
    {
     "cell_type": "markdown",
     "metadata": {},
     "source": [
      "There are many voxels with an intensity of zero, including all the stuff\n",
      "outside the brain that we set to zero above. Let's rescale the axes to\n",
      "make the more interesting features evident:"
     ]
    },
    {
     "cell_type": "code",
     "collapsed": false,
     "input": [
      "fig, ax = subplots(1)\n",
      "hist(brain.ravel(), 100)\n",
      "xlabel('Raw intensity'); ylabel('Pixel count');\n",
      "ax.set_ylim([0, 1e5])\n",
      "ax.set_xlim([0, 32765])\n"
     ],
     "language": "python",
     "metadata": {},
     "outputs": []
    },
    {
     "cell_type": "markdown",
     "metadata": {},
     "source": [
      "###Question 4\n",
      "\n",
      "a. How many peaks are there in this histogram?\n",
      "\n",
      "b. What tissue types do these peaks represent?\n"
     ]
    },
    {
     "cell_type": "markdown",
     "metadata": {},
     "source": [
      "Here's a line that is likely to divide white and gray matter intensities\n"
     ]
    },
    {
     "cell_type": "code",
     "collapsed": false,
     "input": [
      "wmThreshold = 24500\n",
      "\n",
      "fig, ax = subplots(1)\n",
      "hist(brain.ravel(), 100)\n",
      "xlabel('Raw intensity'); ylabel('Pixel count');\n",
      "# plot the white matter threshold\n",
      "vlines(wmThreshold,0,1e5, color='red')\n",
      "ax.text(20000,7e4,'white matter threshold', fontsize=12, color='red')\n",
      "ax.set_ylim([0, 1e5])\n",
      "ax.set_xlim([0, 32765])"
     ],
     "language": "python",
     "metadata": {},
     "outputs": []
    },
    {
     "cell_type": "markdown",
     "metadata": {},
     "source": [
      "##Segment out the white matter based on this boundary\n"
     ]
    },
    {
     "cell_type": "code",
     "collapsed": false,
     "input": [
      "whiteMatter = brain > wmThreshold"
     ],
     "language": "python",
     "metadata": {},
     "outputs": []
    },
    {
     "cell_type": "markdown",
     "metadata": {},
     "source": [
      "Clean up the segmentation with a little smoothing. For a real\n",
      "segmentation, we would also want to have a human expert edit the\n",
      "segmentation to ensure that it is correct.\n"
     ]
    },
    {
     "cell_type": "code",
     "collapsed": false,
     "input": [
      "from scipy.ndimage.filters import gaussian_filter\n",
      "\n",
      "whiteMatter = gaussian_filter(double(whiteMatter),3.0)>0.5\n"
     ],
     "language": "python",
     "metadata": {},
     "outputs": []
    },
    {
     "cell_type": "markdown",
     "metadata": {},
     "source": [
      "##Inspect the segmentation\n",
      "\n",
      "Now we overlay the whitematter segmentation over the brain. "
     ]
    },
    {
     "cell_type": "code",
     "collapsed": false,
     "input": [
      "lighterBrain=brain*0.00005 # reduce the intensity of the brain image\n",
      "\n",
      "fig, ax = plt.subplots(1)\n",
      "for slice in range(whiteMatter.shape[2]):\n",
      "    # wherever there is white matter, the brain image is less intense\n",
      "    ax.matshow(lighterBrain[:,:,slice]+whiteMatter[:,:,slice], cmap=matplotlib.cm.bone)\n",
      "    time.sleep(0.1)\n",
      "    clear_output()\n",
      "    display(fig,ax)\n",
      "    ax.cla()\n",
      "plt.close()"
     ],
     "language": "python",
     "metadata": {},
     "outputs": []
    },
    {
     "cell_type": "markdown",
     "metadata": {},
     "source": [
      "##Question 5\n",
      "What is the volume of the white matter in cubic centimeters?\n"
     ]
    },
    {
     "cell_type": "code",
     "collapsed": false,
     "input": [
      "# compute your answer here\n",
      "\n",
      "\n"
     ],
     "language": "python",
     "metadata": {},
     "outputs": []
    },
    {
     "cell_type": "markdown",
     "metadata": {},
     "source": [
      "## View the brain surface \n",
      "\n",
      "Note: the commands in this section might take a while to compute.\n",
      "\n",
      "First, we define a few functions for dealing with 3D surfaces."
     ]
    },
    {
     "cell_type": "code",
     "collapsed": false,
     "input": [
      "import vtk\n",
      "from scipy import ndimage\n",
      "\n",
      "def vtk_iso(vol, iso_thresh=1):\n",
      "    im_data = vol.tostring()\n",
      "    img = vtk.vtkImageImport()\n",
      "    img.CopyImportVoidPointer(im_data, len(im_data))\n",
      "    img.SetDataScalarType(vtk.VTK_UNSIGNED_SHORT)\n",
      "    img.SetNumberOfScalarComponents(1)\n",
      "    img.SetDataExtent(0, vol.shape[2]-1, 0, vol.shape[1]-1, 0, vol.shape[0]-1)\n",
      "    img.SetWholeExtent(0, vol.shape[2]-1, 0, vol.shape[1]-1, 0, vol.shape[0]-1)\n",
      "    iso = vtk.vtkMarchingCubes()\n",
      "    iso.SetInput(img.GetOutput())\n",
      "    iso.SetValue(0, iso_thresh)\n",
      "    return iso,img\n",
      "\n",
      "def vtk_smooth(iso, iter=20, relax=0.5, decimate=0.0):\n",
      "    isoSmooth = vtk.vtkSmoothPolyDataFilter()\n",
      "    if decimate>0:\n",
      "        deci = vtk.vtkDecimatePro()\n",
      "        deci.SetInput(iso.GetOutput())\n",
      "        deci.SetTargetReduction(decimate)\n",
      "        deci.PreserveTopologyOn()\n",
      "        isoSmooth.SetInputConnection(deci.GetOutputPort())\n",
      "    else:\n",
      "        isoSmooth.SetInputConnection(iso.GetOutputPort())\n",
      "    isoSmooth.SetNumberOfIterations(100)\n",
      "    isoSmooth.BoundarySmoothingOn()\n",
      "    isoSmooth.FeatureEdgeSmoothingOff()\n",
      "    isoSmooth.SetFeatureAngle(45)\n",
      "    isoSmooth.SetEdgeAngle(15)\n",
      "    isoSmooth.SetRelaxationFactor(relax)\n",
      "    return isoSmooth\n",
      "\n",
      "def vtk_render_window(iso, img=None, color=[0.5,0.5,0.5]):\n",
      "    normals = vtk.vtkPolyDataNormals()\n",
      "    normals.SetInputConnection(iso.GetOutputPort())\n",
      "    normals.FlipNormalsOn()\n",
      "    isoMapper = vtk.vtkPolyDataMapper()\n",
      "    isoMapper.SetInput(normals.GetOutput())\n",
      "    isoMapper.ScalarVisibilityOff()\n",
      "\n",
      "    isoActor = vtk.vtkActor()\n",
      "    isoActor.SetMapper(isoMapper)\n",
      "    isoActor.GetProperty().SetColor(color)\n",
      "\n",
      "    ren = vtk.vtkRenderer()\n",
      "    renWin = vtk.vtkRenderWindow()\n",
      "    renWin.AddRenderer(ren)\n",
      "    iren = vtk.vtkRenderWindowInteractor()\n",
      "    iren.SetRenderWindow(renWin)\n",
      "\n",
      "    # Add the actors to the renderer, set the background and size\n",
      "    if img!=None:\n",
      "        outline = vtk.vtkOutlineFilter()\n",
      "        outline.SetInput(img.GetOutput())\n",
      "        outlineMapper = vtk.vtkPolyDataMapper()\n",
      "        outlineMapper.SetInput(outline.GetOutput())\n",
      "        outlineActor = vtk.vtkActor()\n",
      "        outlineActor.SetMapper(outlineMapper)\n",
      "        outlineActor.VisibilityOff()\n",
      "        ren.AddActor(outlineActor)\n",
      "\n",
      "    ren.AddActor(isoActor)\n",
      "    ren.SetBackground(1.0,1.0,1.0)\n",
      "    renWin.SetSize(450,450)\n",
      "    \n",
      "    iren.Initialize()\n",
      "    return iren\n"
     ],
     "language": "python",
     "metadata": {},
     "outputs": []
    },
    {
     "cell_type": "markdown",
     "metadata": {},
     "source": [
      "The pia mater is one of the three membranes that cover the brain (meninges). \n",
      "By fitting a surface to the brain mask, we get something that represents the \n",
      "pial surface.\n"
     ]
    },
    {
     "cell_type": "code",
     "collapsed": false,
     "input": [
      "# get the pial surface (surface of the brain mask)\n",
      "pial_iso,pial_img = vtk_iso(brainMask)\n",
      "\n",
      "# try dragging the image with your cursor!\n",
      "iren = vtk_render_window(pial_iso)\n",
      "iren.Start()"
     ],
     "language": "python",
     "metadata": {},
     "outputs": []
    },
    {
     "cell_type": "markdown",
     "metadata": {},
     "source": [
      "We can also view the white matter surface"
     ]
    },
    {
     "cell_type": "code",
     "collapsed": false,
     "input": [
      "# apply the brain mask to remove the scalp from the anatomical image\n",
      "anat[brainMask==0] = 0\n",
      "# segment the white matter\n",
      "wm_vol = (anat>wmThreshold).astype(np.float)\n",
      "wm_vol = ndimage.gaussian_filter(wm_vol.astype(float), 0.3)\n",
      "wm_vol = ndimage.measurements.label(wm_vol)[0]\n",
      "wm_vol = (wm_vol==1).astype(np.uint16)\n",
      "wm_iso,wm_img = vtk_iso(wm_vol)\n",
      "wm_iso = vtk_smooth(wm_iso, 20, 0.3, 0.2)\n",
      "\n",
      "iren = vtk_render_window(wm_iso)\n",
      "iren.Start()"
     ],
     "language": "python",
     "metadata": {},
     "outputs": []
    }
   ],
   "metadata": {}
  }
 ]
}